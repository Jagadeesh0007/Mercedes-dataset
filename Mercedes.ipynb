{
 "cells": [
  {
   "cell_type": "code",
   "execution_count": 14,
   "metadata": {},
   "outputs": [],
   "source": [
    "import pandas as pd\n",
    "import matplotlib.pyplot as plt\n",
    "import seaborn as sns \n",
    "import numpy as np\n",
    "from sklearn.preprocessing import LabelEncoder\n",
    "import warnings\n",
    "import seaborn as sns\n",
    "import matplotlib.pyplot as plt\n",
    "mercedes_df=pd.read_csv('Mercedes.csv')\n",
    "output=mercedes_df['y']\n",
    "mercedes_df.drop(columns=['y'],inplace=True)\n"
   ]
  },
  {
   "cell_type": "code",
   "execution_count": 15,
   "metadata": {},
   "outputs": [
    {
     "data": {
      "text/plain": [
       "(4209, 364)"
      ]
     },
     "execution_count": 15,
     "metadata": {},
     "output_type": "execute_result"
    }
   ],
   "source": [
    "cols_to_drop=[]\n",
    "for col in mercedes_df.columns:\n",
    "    if len(np.unique(mercedes_df[col]))==1 or len(np.unique(mercedes_df[col]))==mercedes_df.shape[0]:\n",
    "        cols_to_drop.append(col)\n",
    "         \n",
    "cols_to_drop\n",
    "mercedes_df.drop(columns=cols_to_drop,inplace=True)\n",
    "mercedes_df.shape"
   ]
  },
  {
   "cell_type": "code",
   "execution_count": 16,
   "metadata": {},
   "outputs": [],
   "source": [
    "from sklearn.model_selection import train_test_split\n",
    "X_train,X_test,y_train,y_test=train_test_split(mercedes_df,output,test_size=0.2,random_state=42)\n",
    "#le=LabelEncoder()\n",
    "\n",
    "\n",
    "class LabelEncoderExt(object):\n",
    "    def __init__(self):\n",
    "        \"\"\"\n",
    "        It differs from LabelEncoder by handling new classes and providing a value for it [Unknown]\n",
    "        Unknown will be added in fit and transform will take care of new item. It gives unknown class id\n",
    "        \"\"\"\n",
    "        self.label_encoder = LabelEncoder()\n",
    "        # self.classes_ = self.label_encoder.classes_\n",
    "\n",
    "    def fit(self, data_list):\n",
    "        \"\"\"\n",
    "        This will fit the encoder for all the unique values and introduce unknown value\n",
    "        :param data_list: A list of string\n",
    "        :return: self\n",
    "        \"\"\"\n",
    "        self.label_encoder = self.label_encoder.fit(list(data_list) + ['Unknown'])\n",
    "        self.classes_ = self.label_encoder.classes_\n",
    "\n",
    "        return self\n",
    "\n",
    "    def transform(self, data_list):\n",
    "        \"\"\"\n",
    "        This will transform the data_list to id list where the new values get assigned to Unknown class\n",
    "        :param data_list:\n",
    "        :return:\n",
    "        \"\"\"\n",
    "        new_data_list = list(data_list)\n",
    "        for unique_item in np.unique(data_list):\n",
    "            if unique_item not in self.label_encoder.classes_:\n",
    "                new_data_list = ['Unknown' if x==unique_item else x for x in new_data_list]\n",
    "\n",
    "        return self.label_encoder.transform(new_data_list)"
   ]
  },
  {
   "cell_type": "code",
   "execution_count": 17,
   "metadata": {},
   "outputs": [
    {
     "name": "stderr",
     "output_type": "stream",
     "text": [
      "C:\\Users\\TEMP\\Anaconda3\\lib\\site-packages\\ipykernel_launcher.py:6: SettingWithCopyWarning: \n",
      "A value is trying to be set on a copy of a slice from a DataFrame.\n",
      "Try using .loc[row_indexer,col_indexer] = value instead\n",
      "\n",
      "See the caveats in the documentation: http://pandas.pydata.org/pandas-docs/stable/indexing.html#indexing-view-versus-copy\n",
      "  \n",
      "C:\\Users\\TEMP\\Anaconda3\\lib\\site-packages\\ipykernel_launcher.py:7: SettingWithCopyWarning: \n",
      "A value is trying to be set on a copy of a slice from a DataFrame.\n",
      "Try using .loc[row_indexer,col_indexer] = value instead\n",
      "\n",
      "See the caveats in the documentation: http://pandas.pydata.org/pandas-docs/stable/indexing.html#indexing-view-versus-copy\n",
      "  import sys\n"
     ]
    }
   ],
   "source": [
    "le=LabelEncoderExt()\n",
    "\n",
    "cat_cols=[col for col in X_train.columns if X_train[col].dtype=='object']\n",
    "for col in cat_cols:\n",
    "    le.fit(X_train[col])\n",
    "    X_train[col]=le.transform(X_train[col])\n",
    "    X_test[col]=le.transform(X_test[col])\n",
    "    \n"
   ]
  },
  {
   "cell_type": "code",
   "execution_count": 18,
   "metadata": {},
   "outputs": [
    {
     "data": {
      "text/plain": [
       "[<matplotlib.lines.Line2D at 0x19a43084668>]"
      ]
     },
     "execution_count": 18,
     "metadata": {},
     "output_type": "execute_result"
    },
    {
     "data": {
      "image/png": "[encoded data removed]",
      "text/plain": [
       "<Figure size 432x288 with 1 Axes>"
      ]
     },
     "metadata": {
      "needs_background": "light"
     },
     "output_type": "display_data"
    }
   ],
   "source": [
    "from sklearn.decomposition import PCA\n",
    "\n",
    "pca=PCA()\n",
    "X_train_pca_df=pd.DataFrame(pca.fit_transform(X_train))\n",
    "plt.plot(np.cumsum(pca.explained_variance_ratio_))\n"
   ]
  },
  {
   "cell_type": "code",
   "execution_count": 19,
   "metadata": {},
   "outputs": [],
   "source": [
    "pca_1=PCA(n_components=50)\n",
    "\n",
    "X_train_pca1_df=pd.DataFrame(pca_1.fit_transform(X_train),columns=list(range(0,50)))\n",
    "\n",
    "X_test_pca1_df=pd.DataFrame(pca_1.transform(X_test))\n"
   ]
  },
  {
   "cell_type": "code",
   "execution_count": 22,
   "metadata": {},
   "outputs": [],
   "source": [
    "from statsmodels.stats.outliers_influence import variance_inflation_factor\n",
    "\n",
    "vif_pca = pd.DataFrame()\n",
    "vif_pca[\"VIF Factor_PCA\"] = [variance_inflation_factor(X_train_pca1_df.values, i) for i in range(X_train_pca1_df.shape[1])]\n",
    "vif_pca['Column Name']=X_train_pca1_df.columns\n"
   ]
  },
  {
   "cell_type": "code",
   "execution_count": 23,
   "metadata": {},
   "outputs": [
    {
     "name": "stderr",
     "output_type": "stream",
     "text": [
      "C:\\Users\\TEMP\\Anaconda3\\lib\\site-packages\\statsmodels\\stats\\outliers_influence.py:185: RuntimeWarning: divide by zero encountered in double_scalars\n",
      "  vif = 1. / (1. - r_squared_i)\n",
      "C:\\Users\\TEMP\\Anaconda3\\lib\\site-packages\\statsmodels\\regression\\linear_model.py:1636: RuntimeWarning: invalid value encountered in double_scalars\n",
      "  return 1 - self.ssr/self.centered_tss\n"
     ]
    }
   ],
   "source": [
    "from statsmodels.stats.outliers_influence import variance_inflation_factor\n",
    "\n",
    "vif = pd.DataFrame()\n",
    "vif[\"VIF Factor\"] = [variance_inflation_factor(X_train.values, i) for i in range(X_train.shape[1])]\n",
    "\n",
    "vif['Column Name']=X_train.columns\n"
   ]
  },
  {
   "cell_type": "code",
   "execution_count": 24,
   "metadata": {},
   "outputs": [
    {
     "name": "stdout",
     "output_type": "stream",
     "text": [
      "Train Score:---- 0.5206684305292373\n",
      "Test Score:---- 0.5381978323548828\n"
     ]
    },
    {
     "data": {
      "text/plain": [
       "71.87947952164659"
      ]
     },
     "execution_count": 24,
     "metadata": {},
     "output_type": "execute_result"
    }
   ],
   "source": [
    "from sklearn.linear_model import LinearRegression\n",
    "from sklearn.metrics import r2_score,mean_squared_error\n",
    "\n",
    "lin_reg_1=LinearRegression()\n",
    "lin_reg_1.fit(X_train_pca1_df,y_train)\n",
    "\n",
    "y_linreg_pred=lin_reg_1.predict(X_test_pca1_df)\n",
    "\n",
    "r2_score(y_true=y_test,y_pred=y_linreg_pred)\n",
    "print('Train Score:----',lin_reg_1.score(X_train_pca1_df,y_train))\n",
    "print('Test Score:----',lin_reg_1.score(X_test_pca1_df,y_test))\n",
    "\n",
    "mean_squared_error(y_test,y_linreg_pred)"
   ]
  },
  {
   "cell_type": "code",
   "execution_count": null,
   "metadata": {},
   "outputs": [],
   "source": [
    "from sklearn.ensemble import RandomForestRegressor\n",
    "from sklearn.metrics import r2_score,mean_squared_error\n",
    "\n",
    "random_forest=RandomForestRegressor()\n",
    "random_forest.fit(X_train_pca1_df,y_train)\n",
    "\n",
    "y_randomforest_pred=random_forest.predict(X_test_pca1_df)\n",
    "\n",
    "r2=r2_score(y_test,y_randomforest_pred)\n",
    "print('r2:',r2)"
   ]
  },
  {
   "cell_type": "code",
   "execution_count": null,
   "metadata": {},
   "outputs": [],
   "source": [
    "from sklearn.model_selection import GridSearchCV,RandomizedSearchCV\n",
    "\n",
    "hyp_dic={'max_depth':[3,5,8,9],\n",
    "         'min_samples_split':[3,6,9,10],\n",
    "         'min_samples_leaf':[4,5,6]}\n",
    "gridcv=GridSearchCV(estimator=random_forest,param_grid=hyp_dic,cv=5)\n",
    "gridcv.fit(X_train_pca1_df,y_train)\n",
    "\n",
    "gridcv.best_params_\n"
   ]
  },
  {
   "cell_type": "code",
   "execution_count": null,
   "metadata": {},
   "outputs": [],
   "source": [
    "gridcv.best_score_\n",
    "#for random forest hyperparameter tuning"
   ]
  },
  {
   "cell_type": "code",
   "execution_count": 30,
   "metadata": {},
   "outputs": [
    {
     "name": "stdout",
     "output_type": "stream",
     "text": [
      "r2: 0.5218890000794201\n"
     ]
    }
   ],
   "source": [
    "from sklearn.ensemble import GradientBoostingRegressor\n",
    "\n",
    "gradient_boost=GradientBoostingRegressor()\n",
    "gradient_boost.fit(X_train_pca1_df,y_train)\n",
    "\n",
    "y_gradientboost_pred=gradient_boost.predict(X_test_pca1_df)\n",
    "\n",
    "r2=r2_score(y_test,y_gradientboost_pred)\n",
    "print('r2:',r2)\n",
    "\n"
   ]
  },
  {
   "cell_type": "code",
   "execution_count": 38,
   "metadata": {},
   "outputs": [
    {
     "data": {
      "text/plain": [
       "0.5084755664083451"
      ]
     },
     "execution_count": 38,
     "metadata": {},
     "output_type": "execute_result"
    }
   ],
   "source": [
    "from sklearn.model_selection import GridSearchCV\n",
    "\n",
    "\n",
    "hyp_dic1={'learning_rate':[0.01,0.05,0.1,1,0.5],\n",
    "          'n_estimators':[100],\n",
    "          'max_depth':[3,4,5],\n",
    "          'min_samples_split':[4,5,6],\n",
    "          'min_samples_leaf':[4,5,6],\n",
    "          'subsample':[0.6,0.7,0.8,1],\n",
    "          'max_features':['sqrt'],\n",
    "          'random_state':[10]}\n",
    "\n",
    "gridcv1=GridSearchCV(gradient_boost,param_grid=hyp_dic1,cv=5)\n",
    "gridcv1.fit(X_train_pca1_df,y_train)\n",
    "\n",
    "gridcv1.best_score_\n",
    "\n"
   ]
  }
 ],
 "metadata": {
  "kernelspec": {
   "display_name": "Python 3",
   "language": "python",
   "name": "python3"
  },
  "language_info": {
   "codemirror_mode": {
    "name": "ipython",
    "version": 3
   },
   "file_extension": ".py",
   "mimetype": "text/x-python",
   "name": "python",
   "nbconvert_exporter": "python",
   "pygments_lexer": "ipython3",
   "version": "3.7.3"
  }
 },
 "nbformat": 4,
 "nbformat_minor": 2
}
